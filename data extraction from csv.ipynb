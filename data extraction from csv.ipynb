{
 "cells": [
  {
   "cell_type": "code",
   "execution_count": 8,
   "metadata": {},
   "outputs": [
    {
     "name": "stdout",
     "output_type": "stream",
     "text": [
      "                                                      price_range\n",
      "product_name                                                     \n",
      "Harley-Davidson Hedman D93552 Mens Brown Nubuck...   INR 8,073.52\n",
      "Dr. Martens Men's Gray Ankle Boots Size 8            INR 2,124.09\n",
      "$378 Frye Mens Arkansas Logger Mid Boot Shoes, ...       INR 7.79\n",
      "VTG RED WING IRISH SETTER 1990'S Pull On Work B...   INR 8,853.32\n",
      "850$ Tod's Black Wingtip Leather Ankle Boots Si...  INR 10,553.16\n",
      "E20 Ariat WorkHog XT Firebird Bruin Brown Leath...   INR 2,124.09\n",
      "54-12 Ariat WorkHog XT Bruin Brown Leather Wate...   INR 2,832.35\n",
      "55-65 MSRP $399.95 Ariat Promoter Quill Ostrich...   INR 4,248.88\n",
      "VTG VASQUE BROWN LEATHER LACE UP SQUARE TOE MOU...   INR 5,311.99\n",
      "$458 Frye Mens Addison Lug Lace Up Round Toe An...  INR 11,331.54\n",
      "DR. DOC MARTENS ENGLAND Black Leather Ankle Boo...   INR 5,311.99\n",
      "53-79 Ariat WorkHog XT Bruin Brown Leather Wate...   INR 2,832.35\n",
      "$378 Frye Mens Walter Chukka Lace Up Leather An...   INR 9,915.01\n",
      "Western Classics by Guy Garrett Gray Leather Co...   INR 1,769.96\n",
      "Clarks Men's Bushacre 2 Lace-Up Desert Chukka Boot   INR 4,957.15\n",
      "Walk-Over Vaughn Chukka Mens Suede Leather Boot...   INR 9,915.01\n",
      "COLE HAAN C11847 CHARLES BROWN OIL LEATHER LACE...   INR 4,957.15\n",
      "$428 Frye Mens John Addison Lace Up Ankle Boot ...  INR 11,331.54\n",
      "A.Testoni Men black combat leather boots 9 US (...   INR 4,957.15\n",
      "Mens 13 M Magnum Hi-Tec Brown Leather Boots Wat...   INR 3,895.46\n",
      "A.Testoni Men black leather boots 11 US (10 UK)...  INR 12,748.07\n",
      "VTG DEXTER made in USA Tan Light Brown Tall Pul...   INR 4,957.15\n",
      "A.Testoni Men black suede leather ankle boots 1...   INR 7,931.86\n",
      "$358 Frye Mens Harness 12R Tall Pull On Leather...   INR 7,011.83\n",
      "Mens 13 EE EW X Wide Ariat Rambler Western Boot...   INR 7,081.95\n",
      "UGG BILTMORE CHELSEA MILITARY SAND LEATHER WATE...   INR 3,116.37\n",
      "1,000$ Pre-owned Bally Brown Scribe Goodyear We...   INR 9,915.01\n",
      "Mens sz 10 D M Frye Billy Charcoal Gray Leather...   INR 2,832.35\n",
      "A.Testoni Men black leather ankle boots 8 US / ...  INR 10,807.42\n",
      "Merrell Realm Chukka Ankle Boot Cinnamon Leathe...   INR 1,415.82\n",
      "A.Testoni Men black/camouflage leather ankle bo...  INR 14,094.48\n",
      "$348 Frye Mens Freeman Chukka Leather Boot Shoe...  INR 14,164.60\n",
      "53-77 Ariat Heritage Distressed Brown Leather R...   INR 3,470.50\n",
      "Pajar Mens Morello Black Lace Up Combat Boots S...   INR 1,983.14\n",
      "53-63 Clarks Bushacre 2 Beeswax Leather Chukka ...  INR 38,954.60\n",
      "900$ Bally Wellys Brown Suede Boots Size US 12 ...   INR 2,937.89\n",
      "$428 Frye Mens John Addison Lace Up Ankle Boot ...   INR 2,937.89\n",
      "ARIAT BLACK LEATHER SPORT WIDE SQUARE TOE WESTE...   INR 2,124.09\n",
      "Crevo Mens Stags Brown Textured Casual Boots Sh...   INR 1,983.14\n",
      "JULIAN Hand Made Leather Cap Toe Work Boots USA...   INR 4,107.94\n",
      "Crevo Mens Stags Brown Textured Work Casual Boo...   INR 6,370.85\n",
      "Crevo Mens Stags Brown Textured Work Casual Boo...   INR 5,141.30\n",
      "H18 Ariat WorkHog Aged Bark/Army Green Pull-On ...   INR 1,345.70\n"
     ]
    }
   ],
   "source": [
    "import pandas as pd\n",
    "x=pd.read_csv(\"ebay.csv\",index_col=0)\n",
    "print(x)"
   ]
  },
  {
   "cell_type": "code",
   "execution_count": null,
   "metadata": {},
   "outputs": [],
   "source": []
  }
 ],
 "metadata": {
  "kernelspec": {
   "display_name": "Python 3",
   "language": "python",
   "name": "python3"
  },
  "language_info": {
   "codemirror_mode": {
    "name": "ipython",
    "version": 3
   },
   "file_extension": ".py",
   "mimetype": "text/x-python",
   "name": "python",
   "nbconvert_exporter": "python",
   "pygments_lexer": "ipython3",
   "version": "3.7.4"
  }
 },
 "nbformat": 4,
 "nbformat_minor": 2
}
